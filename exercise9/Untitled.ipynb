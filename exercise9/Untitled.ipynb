{
 "cells": [
  {
   "cell_type": "markdown",
   "metadata": {},
   "source": [
    "2946 fossils\n",
    "614 to genus\n",
    "2107 to species\n",
    "using this code:  cut -d \",\" -f7 canid_occ.csv | sort | grep \"species\" | wc -l\n",
    "2947 accepted names"
   ]
  },
  {
   "cell_type": "markdown",
   "metadata": {},
   "source": [
    "-s changes sampling frequency\n",
    "-n number of mcmc generations for the likelihood sampler"
   ]
  },
  {
   "cell_type": "markdown",
   "metadata": {},
   "source": [
    "marginal:  posterior samples of marginal rates of speciation, extinction, & net diversification\n",
    "\n",
    "sum:  input variables\n",
    "\n",
    "mcmc:  samples of variables taken during sampling process"
   ]
  },
  {
   "cell_type": "code",
   "execution_count": null,
   "metadata": {
    "collapsed": true
   },
   "outputs": [],
   "source": []
  }
 ],
 "metadata": {
  "anaconda-cloud": {},
  "kernelspec": {
   "display_name": "Python [conda root]",
   "language": "python",
   "name": "conda-root-py"
  },
  "language_info": {
   "codemirror_mode": {
    "name": "ipython",
    "version": 3
   },
   "file_extension": ".py",
   "mimetype": "text/x-python",
   "name": "python",
   "nbconvert_exporter": "python",
   "pygments_lexer": "ipython3",
   "version": "3.5.2"
  }
 },
 "nbformat": 4,
 "nbformat_minor": 2
}
