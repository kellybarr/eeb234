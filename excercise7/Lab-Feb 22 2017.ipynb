{
 "cells": [
  {
   "cell_type": "code",
   "execution_count": 5,
   "metadata": {
    "collapsed": false
   },
   "outputs": [
    {
     "data": {
      "text/plain": [
       "'tag\\tspcode\\tx\\ty\\tdbh1\\tdbh2\\tdbh3\\trecr1\\trecr2\\trecr3\\tpom1\\tpom2\\tpom3\\tcode1\\tcode2\\tcode3\\tmult1\\tmult2\\tmult3\\tdate1\\tdate2\\tdate3\\n'"
      ]
     },
     "execution_count": 5,
     "metadata": {},
     "output_type": "execute_result"
    }
   ],
   "source": [
    "in_file = open(\"/home/eeb177-student/Desktop/eeb274/class-assignments/class-assignments/21-Feb/cocoli.txt\")\n",
    "#get rid of header\n",
    "in_file.readline()"
   ]
  },
  {
   "cell_type": "code",
   "execution_count": 4,
   "metadata": {
    "collapsed": false
   },
   "outputs": [],
   "source": [
    "sizes_94 = {}\n",
    "sizes_97 = {}\n",
    "sizes_98 = {}\n",
    "\n",
    "for line in in_file:\n",
    "    items = line.split()\n",
    "    #default for splitting lines is on tabs\n",
    "    tree_id = items[0]\n",
    "    size_in_94 = items[4]\n",
    "    size_in_97 = items[5]\n",
    "    size_in_98 = items[6]\n",
    "    \n",
    "    sizes_94[tree_id] = size_in_94\n",
    "    sizes_97[tree_id] = size_in_97\n",
    "    sizes_98[tree_id] = size_in_98\n"
   ]
  },
  {
   "cell_type": "code",
   "execution_count": 7,
   "metadata": {
    "collapsed": false
   },
   "outputs": [],
   "source": [
    "import matplotlib.pyplot as plt"
   ]
  },
  {
   "cell_type": "code",
   "execution_count": null,
   "metadata": {
    "collapsed": true
   },
   "outputs": [],
   "source": []
  }
 ],
 "metadata": {
  "anaconda-cloud": {},
  "kernelspec": {
   "display_name": "Python [conda root]",
   "language": "python",
   "name": "conda-root-py"
  },
  "language_info": {
   "codemirror_mode": {
    "name": "ipython",
    "version": 3
   },
   "file_extension": ".py",
   "mimetype": "text/x-python",
   "name": "python",
   "nbconvert_exporter": "python",
   "pygments_lexer": "ipython3",
   "version": "3.5.2"
  }
 },
 "nbformat": 4,
 "nbformat_minor": 2
}
